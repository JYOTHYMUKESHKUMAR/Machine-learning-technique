{
 "cells": [
  {
   "cell_type": "markdown",
   "id": "c6bcad52",
   "metadata": {},
   "source": [
    "# Train Test Split"
   ]
  },
  {
   "cell_type": "markdown",
   "id": "0b5e6226",
   "metadata": {},
   "source": [
    "***"
   ]
  },
  {
   "cell_type": "markdown",
   "id": "63bb80ca",
   "metadata": {},
   "source": [
    "The train test split technique can be used for classification and regression problems to test machine learning algorithms. The procedure takes the given dataset and splits it into two subsets: \n",
    "\n",
    "* Training dataset: it is used to train the algorithm and fit the machine learning model.\n",
    "* Test dataset: Using the input element from the training data, the algorithms make predictions.\n",
    "\n",
    "The model is first to fit on the available data with known inputs and outputs. t is then run to make predictions on the rest of the data subset to learn from it. This can be used to make predictions on future data sets where the expected input and output values are non-existent. "
   ]
  },
  {
   "cell_type": "markdown",
   "id": "70d4ceee",
   "metadata": {},
   "source": [
    "### Train Test Split using Sklearn library"
   ]
  },
  {
   "cell_type": "code",
   "execution_count": 1,
   "id": "4ff3e59e",
   "metadata": {},
   "outputs": [],
   "source": [
    "import pandas as pd"
   ]
  },
  {
   "cell_type": "code",
   "execution_count": 3,
   "id": "db8a91da",
   "metadata": {},
   "outputs": [],
   "source": [
    "df= pd.read_csv('water_potability.csv')"
   ]
  },
  {
   "cell_type": "code",
   "execution_count": null,
   "id": "70e532de",
   "metadata": {},
   "outputs": [],
   "source": [
    "#to drop null values"
   ]
  },
  {
   "cell_type": "code",
   "execution_count": 5,
   "id": "d4b47e97",
   "metadata": {},
   "outputs": [],
   "source": [
    "df.dropna(inplace=True)"
   ]
  },
  {
   "cell_type": "code",
   "execution_count": 9,
   "id": "14ccaf97",
   "metadata": {
    "scrolled": true
   },
   "outputs": [
    {
     "data": {
      "text/html": [
       "<div>\n",
       "<style scoped>\n",
       "    .dataframe tbody tr th:only-of-type {\n",
       "        vertical-align: middle;\n",
       "    }\n",
       "\n",
       "    .dataframe tbody tr th {\n",
       "        vertical-align: top;\n",
       "    }\n",
       "\n",
       "    .dataframe thead th {\n",
       "        text-align: right;\n",
       "    }\n",
       "</style>\n",
       "<table border=\"1\" class=\"dataframe\">\n",
       "  <thead>\n",
       "    <tr style=\"text-align: right;\">\n",
       "      <th></th>\n",
       "      <th>ph</th>\n",
       "      <th>Hardness</th>\n",
       "      <th>Solids</th>\n",
       "      <th>Chloramines</th>\n",
       "      <th>Sulfate</th>\n",
       "      <th>Conductivity</th>\n",
       "      <th>Organic_carbon</th>\n",
       "      <th>Trihalomethanes</th>\n",
       "      <th>Turbidity</th>\n",
       "      <th>Potability</th>\n",
       "    </tr>\n",
       "  </thead>\n",
       "  <tbody>\n",
       "    <tr>\n",
       "      <th>3</th>\n",
       "      <td>8.316766</td>\n",
       "      <td>214.373394</td>\n",
       "      <td>22018.417441</td>\n",
       "      <td>8.059332</td>\n",
       "      <td>356.886136</td>\n",
       "      <td>363.266516</td>\n",
       "      <td>18.436524</td>\n",
       "      <td>100.341674</td>\n",
       "      <td>4.628771</td>\n",
       "      <td>0</td>\n",
       "    </tr>\n",
       "    <tr>\n",
       "      <th>4</th>\n",
       "      <td>9.092223</td>\n",
       "      <td>181.101509</td>\n",
       "      <td>17978.986339</td>\n",
       "      <td>6.546600</td>\n",
       "      <td>310.135738</td>\n",
       "      <td>398.410813</td>\n",
       "      <td>11.558279</td>\n",
       "      <td>31.997993</td>\n",
       "      <td>4.075075</td>\n",
       "      <td>0</td>\n",
       "    </tr>\n",
       "    <tr>\n",
       "      <th>5</th>\n",
       "      <td>5.584087</td>\n",
       "      <td>188.313324</td>\n",
       "      <td>28748.687739</td>\n",
       "      <td>7.544869</td>\n",
       "      <td>326.678363</td>\n",
       "      <td>280.467916</td>\n",
       "      <td>8.399735</td>\n",
       "      <td>54.917862</td>\n",
       "      <td>2.559708</td>\n",
       "      <td>0</td>\n",
       "    </tr>\n",
       "    <tr>\n",
       "      <th>6</th>\n",
       "      <td>10.223862</td>\n",
       "      <td>248.071735</td>\n",
       "      <td>28749.716544</td>\n",
       "      <td>7.513408</td>\n",
       "      <td>393.663396</td>\n",
       "      <td>283.651634</td>\n",
       "      <td>13.789695</td>\n",
       "      <td>84.603556</td>\n",
       "      <td>2.672989</td>\n",
       "      <td>0</td>\n",
       "    </tr>\n",
       "    <tr>\n",
       "      <th>7</th>\n",
       "      <td>8.635849</td>\n",
       "      <td>203.361523</td>\n",
       "      <td>13672.091764</td>\n",
       "      <td>4.563009</td>\n",
       "      <td>303.309771</td>\n",
       "      <td>474.607645</td>\n",
       "      <td>12.363817</td>\n",
       "      <td>62.798309</td>\n",
       "      <td>4.401425</td>\n",
       "      <td>0</td>\n",
       "    </tr>\n",
       "  </tbody>\n",
       "</table>\n",
       "</div>"
      ],
      "text/plain": [
       "          ph    Hardness        Solids  Chloramines     Sulfate  Conductivity  \\\n",
       "3   8.316766  214.373394  22018.417441     8.059332  356.886136    363.266516   \n",
       "4   9.092223  181.101509  17978.986339     6.546600  310.135738    398.410813   \n",
       "5   5.584087  188.313324  28748.687739     7.544869  326.678363    280.467916   \n",
       "6  10.223862  248.071735  28749.716544     7.513408  393.663396    283.651634   \n",
       "7   8.635849  203.361523  13672.091764     4.563009  303.309771    474.607645   \n",
       "\n",
       "   Organic_carbon  Trihalomethanes  Turbidity  Potability  \n",
       "3       18.436524       100.341674   4.628771           0  \n",
       "4       11.558279        31.997993   4.075075           0  \n",
       "5        8.399735        54.917862   2.559708           0  \n",
       "6       13.789695        84.603556   2.672989           0  \n",
       "7       12.363817        62.798309   4.401425           0  "
      ]
     },
     "execution_count": 9,
     "metadata": {},
     "output_type": "execute_result"
    }
   ],
   "source": [
    "df.head()"
   ]
  },
  {
   "cell_type": "code",
   "execution_count": 11,
   "id": "271eaaf2",
   "metadata": {},
   "outputs": [],
   "source": [
    "x=df.drop(columns='Potability')\n",
    "y=df['Potability']"
   ]
  },
  {
   "cell_type": "code",
   "execution_count": 12,
   "id": "1cbb686c",
   "metadata": {
    "scrolled": true
   },
   "outputs": [
    {
     "data": {
      "text/html": [
       "<div>\n",
       "<style scoped>\n",
       "    .dataframe tbody tr th:only-of-type {\n",
       "        vertical-align: middle;\n",
       "    }\n",
       "\n",
       "    .dataframe tbody tr th {\n",
       "        vertical-align: top;\n",
       "    }\n",
       "\n",
       "    .dataframe thead th {\n",
       "        text-align: right;\n",
       "    }\n",
       "</style>\n",
       "<table border=\"1\" class=\"dataframe\">\n",
       "  <thead>\n",
       "    <tr style=\"text-align: right;\">\n",
       "      <th></th>\n",
       "      <th>ph</th>\n",
       "      <th>Hardness</th>\n",
       "      <th>Solids</th>\n",
       "      <th>Chloramines</th>\n",
       "      <th>Sulfate</th>\n",
       "      <th>Conductivity</th>\n",
       "      <th>Organic_carbon</th>\n",
       "      <th>Trihalomethanes</th>\n",
       "      <th>Turbidity</th>\n",
       "    </tr>\n",
       "  </thead>\n",
       "  <tbody>\n",
       "    <tr>\n",
       "      <th>3</th>\n",
       "      <td>8.316766</td>\n",
       "      <td>214.373394</td>\n",
       "      <td>22018.417441</td>\n",
       "      <td>8.059332</td>\n",
       "      <td>356.886136</td>\n",
       "      <td>363.266516</td>\n",
       "      <td>18.436524</td>\n",
       "      <td>100.341674</td>\n",
       "      <td>4.628771</td>\n",
       "    </tr>\n",
       "    <tr>\n",
       "      <th>4</th>\n",
       "      <td>9.092223</td>\n",
       "      <td>181.101509</td>\n",
       "      <td>17978.986339</td>\n",
       "      <td>6.546600</td>\n",
       "      <td>310.135738</td>\n",
       "      <td>398.410813</td>\n",
       "      <td>11.558279</td>\n",
       "      <td>31.997993</td>\n",
       "      <td>4.075075</td>\n",
       "    </tr>\n",
       "    <tr>\n",
       "      <th>5</th>\n",
       "      <td>5.584087</td>\n",
       "      <td>188.313324</td>\n",
       "      <td>28748.687739</td>\n",
       "      <td>7.544869</td>\n",
       "      <td>326.678363</td>\n",
       "      <td>280.467916</td>\n",
       "      <td>8.399735</td>\n",
       "      <td>54.917862</td>\n",
       "      <td>2.559708</td>\n",
       "    </tr>\n",
       "    <tr>\n",
       "      <th>6</th>\n",
       "      <td>10.223862</td>\n",
       "      <td>248.071735</td>\n",
       "      <td>28749.716544</td>\n",
       "      <td>7.513408</td>\n",
       "      <td>393.663396</td>\n",
       "      <td>283.651634</td>\n",
       "      <td>13.789695</td>\n",
       "      <td>84.603556</td>\n",
       "      <td>2.672989</td>\n",
       "    </tr>\n",
       "    <tr>\n",
       "      <th>7</th>\n",
       "      <td>8.635849</td>\n",
       "      <td>203.361523</td>\n",
       "      <td>13672.091764</td>\n",
       "      <td>4.563009</td>\n",
       "      <td>303.309771</td>\n",
       "      <td>474.607645</td>\n",
       "      <td>12.363817</td>\n",
       "      <td>62.798309</td>\n",
       "      <td>4.401425</td>\n",
       "    </tr>\n",
       "  </tbody>\n",
       "</table>\n",
       "</div>"
      ],
      "text/plain": [
       "          ph    Hardness        Solids  Chloramines     Sulfate  Conductivity  \\\n",
       "3   8.316766  214.373394  22018.417441     8.059332  356.886136    363.266516   \n",
       "4   9.092223  181.101509  17978.986339     6.546600  310.135738    398.410813   \n",
       "5   5.584087  188.313324  28748.687739     7.544869  326.678363    280.467916   \n",
       "6  10.223862  248.071735  28749.716544     7.513408  393.663396    283.651634   \n",
       "7   8.635849  203.361523  13672.091764     4.563009  303.309771    474.607645   \n",
       "\n",
       "   Organic_carbon  Trihalomethanes  Turbidity  \n",
       "3       18.436524       100.341674   4.628771  \n",
       "4       11.558279        31.997993   4.075075  \n",
       "5        8.399735        54.917862   2.559708  \n",
       "6       13.789695        84.603556   2.672989  \n",
       "7       12.363817        62.798309   4.401425  "
      ]
     },
     "execution_count": 12,
     "metadata": {},
     "output_type": "execute_result"
    }
   ],
   "source": [
    "x.head()"
   ]
  },
  {
   "cell_type": "code",
   "execution_count": 13,
   "id": "d786f1bc",
   "metadata": {
    "scrolled": true
   },
   "outputs": [
    {
     "data": {
      "text/plain": [
       "3    0\n",
       "4    0\n",
       "5    0\n",
       "6    0\n",
       "7    0\n",
       "Name: Potability, dtype: int64"
      ]
     },
     "execution_count": 13,
     "metadata": {},
     "output_type": "execute_result"
    }
   ],
   "source": [
    "y.head()"
   ]
  },
  {
   "cell_type": "code",
   "execution_count": 14,
   "id": "55b78344",
   "metadata": {},
   "outputs": [],
   "source": [
    "# Import train_test_split from sklearn model_selection\n",
    "\n",
    "from sklearn.model_selection import train_test_split"
   ]
  },
  {
   "cell_type": "code",
   "execution_count": null,
   "id": "e084dcc7",
   "metadata": {},
   "outputs": [],
   "source": [
    "# Firstly split the columns into Input and Target Variables (X & y)\n",
    "\n",
    "X = df[['feature1','feature2','feature3']]\n",
    "y = df['target_column']"
   ]
  },
  {
   "cell_type": "code",
   "execution_count": 16,
   "id": "6fcf7276",
   "metadata": {},
   "outputs": [],
   "source": [
    "# Assign X_train, X_test, y_train and y_test\n",
    "x_train, x_test, y_train, y_test = train_test_split(x, y, test_size = 0.3, random_state = 100)\n",
    "#random state kodukkunnath same output varanaanu "
   ]
  },
  {
   "cell_type": "code",
   "execution_count": null,
   "id": "61777643",
   "metadata": {},
   "outputs": [],
   "source": []
  },
  {
   "cell_type": "code",
   "execution_count": 17,
   "id": "7c086579",
   "metadata": {},
   "outputs": [
    {
     "data": {
      "text/plain": [
       "(2011, 9)"
      ]
     },
     "execution_count": 17,
     "metadata": {},
     "output_type": "execute_result"
    }
   ],
   "source": [
    "x.shape"
   ]
  },
  {
   "cell_type": "code",
   "execution_count": 18,
   "id": "ee3ee90c",
   "metadata": {},
   "outputs": [
    {
     "data": {
      "text/plain": [
       "(2011,)"
      ]
     },
     "execution_count": 18,
     "metadata": {},
     "output_type": "execute_result"
    }
   ],
   "source": [
    "y.shape"
   ]
  },
  {
   "cell_type": "code",
   "execution_count": 19,
   "id": "d864db93",
   "metadata": {},
   "outputs": [
    {
     "data": {
      "text/plain": [
       "(1407, 9)"
      ]
     },
     "execution_count": 19,
     "metadata": {},
     "output_type": "execute_result"
    }
   ],
   "source": [
    "x_train.shape"
   ]
  },
  {
   "cell_type": "code",
   "execution_count": 20,
   "id": "b78995e9",
   "metadata": {},
   "outputs": [
    {
     "data": {
      "text/plain": [
       "(1407,)"
      ]
     },
     "execution_count": 20,
     "metadata": {},
     "output_type": "execute_result"
    }
   ],
   "source": [
    "y_train.shape"
   ]
  },
  {
   "cell_type": "code",
   "execution_count": 21,
   "id": "0813e6e3",
   "metadata": {},
   "outputs": [
    {
     "data": {
      "text/plain": [
       "(604, 9)"
      ]
     },
     "execution_count": 21,
     "metadata": {},
     "output_type": "execute_result"
    }
   ],
   "source": [
    "x_test.shape"
   ]
  },
  {
   "cell_type": "code",
   "execution_count": 22,
   "id": "8b0364f5",
   "metadata": {
    "scrolled": true
   },
   "outputs": [
    {
     "data": {
      "text/plain": [
       "(604,)"
      ]
     },
     "execution_count": 22,
     "metadata": {},
     "output_type": "execute_result"
    }
   ],
   "source": [
    "y_test.shape"
   ]
  },
  {
   "cell_type": "code",
   "execution_count": 23,
   "id": "5fe1337b",
   "metadata": {},
   "outputs": [
    {
     "data": {
      "text/html": [
       "<div>\n",
       "<style scoped>\n",
       "    .dataframe tbody tr th:only-of-type {\n",
       "        vertical-align: middle;\n",
       "    }\n",
       "\n",
       "    .dataframe tbody tr th {\n",
       "        vertical-align: top;\n",
       "    }\n",
       "\n",
       "    .dataframe thead th {\n",
       "        text-align: right;\n",
       "    }\n",
       "</style>\n",
       "<table border=\"1\" class=\"dataframe\">\n",
       "  <thead>\n",
       "    <tr style=\"text-align: right;\">\n",
       "      <th></th>\n",
       "      <th>ph</th>\n",
       "      <th>Hardness</th>\n",
       "      <th>Solids</th>\n",
       "      <th>Chloramines</th>\n",
       "      <th>Sulfate</th>\n",
       "      <th>Conductivity</th>\n",
       "      <th>Organic_carbon</th>\n",
       "      <th>Trihalomethanes</th>\n",
       "      <th>Turbidity</th>\n",
       "    </tr>\n",
       "  </thead>\n",
       "  <tbody>\n",
       "    <tr>\n",
       "      <th>3198</th>\n",
       "      <td>7.503086</td>\n",
       "      <td>186.713329</td>\n",
       "      <td>32000.178936</td>\n",
       "      <td>7.641776</td>\n",
       "      <td>315.974147</td>\n",
       "      <td>473.531611</td>\n",
       "      <td>12.049131</td>\n",
       "      <td>43.280476</td>\n",
       "      <td>4.305514</td>\n",
       "    </tr>\n",
       "    <tr>\n",
       "      <th>1435</th>\n",
       "      <td>5.198225</td>\n",
       "      <td>173.119821</td>\n",
       "      <td>11178.403544</td>\n",
       "      <td>5.893458</td>\n",
       "      <td>343.209876</td>\n",
       "      <td>390.065616</td>\n",
       "      <td>14.160899</td>\n",
       "      <td>65.433008</td>\n",
       "      <td>3.807318</td>\n",
       "    </tr>\n",
       "    <tr>\n",
       "      <th>2337</th>\n",
       "      <td>6.676137</td>\n",
       "      <td>192.685849</td>\n",
       "      <td>27468.980170</td>\n",
       "      <td>5.809436</td>\n",
       "      <td>281.406871</td>\n",
       "      <td>299.886997</td>\n",
       "      <td>12.237608</td>\n",
       "      <td>46.069213</td>\n",
       "      <td>4.336648</td>\n",
       "    </tr>\n",
       "    <tr>\n",
       "      <th>339</th>\n",
       "      <td>7.543700</td>\n",
       "      <td>161.623142</td>\n",
       "      <td>19116.012084</td>\n",
       "      <td>8.493407</td>\n",
       "      <td>289.959953</td>\n",
       "      <td>440.283446</td>\n",
       "      <td>13.336770</td>\n",
       "      <td>80.243237</td>\n",
       "      <td>3.630537</td>\n",
       "    </tr>\n",
       "    <tr>\n",
       "      <th>594</th>\n",
       "      <td>5.284097</td>\n",
       "      <td>185.705492</td>\n",
       "      <td>26532.737255</td>\n",
       "      <td>6.132546</td>\n",
       "      <td>328.139582</td>\n",
       "      <td>543.181748</td>\n",
       "      <td>17.398465</td>\n",
       "      <td>47.066392</td>\n",
       "      <td>4.800963</td>\n",
       "    </tr>\n",
       "  </tbody>\n",
       "</table>\n",
       "</div>"
      ],
      "text/plain": [
       "            ph    Hardness        Solids  Chloramines     Sulfate  \\\n",
       "3198  7.503086  186.713329  32000.178936     7.641776  315.974147   \n",
       "1435  5.198225  173.119821  11178.403544     5.893458  343.209876   \n",
       "2337  6.676137  192.685849  27468.980170     5.809436  281.406871   \n",
       "339   7.543700  161.623142  19116.012084     8.493407  289.959953   \n",
       "594   5.284097  185.705492  26532.737255     6.132546  328.139582   \n",
       "\n",
       "      Conductivity  Organic_carbon  Trihalomethanes  Turbidity  \n",
       "3198    473.531611       12.049131        43.280476   4.305514  \n",
       "1435    390.065616       14.160899        65.433008   3.807318  \n",
       "2337    299.886997       12.237608        46.069213   4.336648  \n",
       "339     440.283446       13.336770        80.243237   3.630537  \n",
       "594     543.181748       17.398465        47.066392   4.800963  "
      ]
     },
     "execution_count": 23,
     "metadata": {},
     "output_type": "execute_result"
    }
   ],
   "source": [
    "x_train.head()"
   ]
  },
  {
   "cell_type": "code",
   "execution_count": null,
   "id": "5b20580d",
   "metadata": {},
   "outputs": [],
   "source": []
  },
  {
   "cell_type": "code",
   "execution_count": null,
   "id": "0429edb3",
   "metadata": {},
   "outputs": [],
   "source": [
    "\n",
    "\n",
    "# Assign X_train, X_test, y_train and y_test\n",
    "X_train, X_test, y_train, y_test = train_test_split(X, y, test_size = 0.3, random_state = 100)\n",
    "\n",
    "# test_size is used to specify the percent of dataset we want to use as our testing set (Here in this case it 0.3 or 30%)\n",
    "\n",
    "# the random_state parameter is used for initializing the internal random number generator, which will decide the splitting of\n",
    "# data into train and test indices in your case."
   ]
  },
  {
   "cell_type": "markdown",
   "id": "dc7ad94b",
   "metadata": {},
   "source": [
    "***"
   ]
  },
  {
   "cell_type": "markdown",
   "id": "fda84a82",
   "metadata": {},
   "source": [
    "# <center><span style = \"color:CornflowerBlue; font-family:Courier New;font-size:40px\">EDURE LEARNING</span></center>"
   ]
  }
 ],
 "metadata": {
  "kernelspec": {
   "display_name": "Python 3 (ipykernel)",
   "language": "python",
   "name": "python3"
  },
  "language_info": {
   "codemirror_mode": {
    "name": "ipython",
    "version": 3
   },
   "file_extension": ".py",
   "mimetype": "text/x-python",
   "name": "python",
   "nbconvert_exporter": "python",
   "pygments_lexer": "ipython3",
   "version": "3.10.9"
  }
 },
 "nbformat": 4,
 "nbformat_minor": 5
}
