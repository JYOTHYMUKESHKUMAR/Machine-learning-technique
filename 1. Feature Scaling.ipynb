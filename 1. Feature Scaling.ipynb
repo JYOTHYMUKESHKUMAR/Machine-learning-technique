{
 "cells": [
  {
   "cell_type": "markdown",
   "id": "8d38fb3c",
   "metadata": {},
   "source": [
    "# <span style = \"color:coral\">Feature scaling </span>"
   ]
  },
  {
   "cell_type": "markdown",
   "id": "0fd2ea1f",
   "metadata": {},
   "source": [
    "***"
   ]
  },
  {
   "cell_type": "markdown",
   "id": "0900f3d7",
   "metadata": {},
   "source": [
    "Feature scaling is a method used to normalize the range of independent variables or features of data. In data processing, it is also known as data normalization and is generally performed during the data preprocessing step."
   ]
  },
  {
   "cell_type": "markdown",
   "id": "68b9368f",
   "metadata": {},
   "source": [
    "I’m sure most of you must have faced this issue in your projects or your learning journey. For example, one feature is entirely in kilograms while the other is in grams, another one is liters, and so on. How can we use these features when they vary so vastly in terms of what they’re presenting?\n",
    "\n",
    "This is where I turned to the concept of feature scaling. It’s a crucial part of the data preprocessing stage."
   ]
  },
  {
   "cell_type": "markdown",
   "id": "f47a92af",
   "metadata": {},
   "source": [
    "### Why Should we Use Feature Scaling?"
   ]
  },
  {
   "cell_type": "markdown",
   "id": "34bf9255",
   "metadata": {},
   "source": [
    "The first question we need to address – why do we need to scale the variables in our dataset? Some machine learning algorithms are sensitive to feature scaling while others are virtually invariant to it. Let me explain that in more detail."
   ]
  },
  {
   "cell_type": "markdown",
   "id": "93f1551f",
   "metadata": {},
   "source": [
    "#### 1. Gradient Descent Based Algorithms"
   ]
  },
  {
   "cell_type": "markdown",
   "id": "60c81916",
   "metadata": {},
   "source": [
    "    Machine learning algorithms like linear regression, logistic regression, neural network, etc. that use gradient descent as an optimization technique require data to be scaled"
   ]
  },
  {
   "cell_type": "markdown",
   "id": "d0805540",
   "metadata": {},
   "source": [
    "#### 2. Distance-Based Algorithms"
   ]
  },
  {
   "cell_type": "markdown",
   "id": "d413be76",
   "metadata": {},
   "source": [
    "    Distance algorithms like KNN, K-means, and SVM are most affected by the range of features. This is because behind the scenes they are using distances between data points to determine their similarity.Since both the features have different scales, there is a chance that higher weightage is given to features with higher magnitude. This will impact the performance of the machine learning algorithm and obviously, we do not want our algorithm to be biassed towards one feature.\n",
    "    \n",
    "    Therefore, we scale our data before employing a distance based algorithm so that all the features contribute equally to the result."
   ]
  },
  {
   "cell_type": "markdown",
   "id": "57893565",
   "metadata": {},
   "source": [
    "#### 3. Tree-Based Algorithms"
   ]
  },
  {
   "cell_type": "markdown",
   "id": "eb5f666d",
   "metadata": {},
   "source": [
    "    Tree-based algorithms, on the other hand, are fairly insensitive to the scale of the features. Think about it, a decision tree is only splitting a node based on a single feature. The decision tree splits a node on a feature that increases the homogeneity of the node. This split on a feature is not influenced by other features.\n",
    "    \n",
    "    So, there is virtually no effect of the remaining features on the split. This is what makes them invariant to the scale of the features!"
   ]
  },
  {
   "cell_type": "markdown",
   "id": "2f5fff29",
   "metadata": {},
   "source": [
    "### Normalization vs Standardization"
   ]
  },
  {
   "cell_type": "markdown",
   "id": "24d99c7e",
   "metadata": {},
   "source": [
    "#### What is Normalization?"
   ]
  },
  {
   "cell_type": "markdown",
   "id": "b95a2397",
   "metadata": {},
   "source": [
    "Normalization is a scaling technique in which values are shifted and rescaled so that they end up ranging between 0 and 1. It is also known as Min-Max scaling."
   ]
  },
  {
   "cell_type": "markdown",
   "id": "1334b620",
   "metadata": {},
   "source": [
    "#### What is Standardization?"
   ]
  },
  {
   "cell_type": "markdown",
   "id": "8c5b77b3",
   "metadata": {},
   "source": [
    "Standardization is another scaling technique where the values are centered around the mean with a unit standard deviation. This means that the mean of the attribute becomes zero and the resultant distribution has a unit standard deviation."
   ]
  },
  {
   "cell_type": "markdown",
   "id": "68234948",
   "metadata": {},
   "source": [
    "### The Big Question – Normalize or Standardize?\n",
    "Normalization vs. standardization is an eternal question among machine learning newcomers. Let me elaborate on the answer in this section.\n",
    "\n",
    "* Normalization is good to use when you know that the distribution of your data does not follow a Gaussian distribution. This can be useful in algorithms that do not assume any distribution of the data like K-Nearest Neighbors and Neural Networks.\n",
    "* Standardization, on the other hand, can be helpful in cases where the data follows a Gaussian distribution. However, this does not have to be necessarily true. Also, unlike normalization, standardization does not have a bounding range. So, even if you have outliers in your data, they will not be affected by standardization."
   ]
  },
  {
   "cell_type": "markdown",
   "id": "39e575ba",
   "metadata": {},
   "source": [
    "## Normalization using sklearn"
   ]
  },
  {
   "cell_type": "markdown",
   "id": "95ab404f",
   "metadata": {},
   "source": [
    "#### <span style = \"color:red\">Before proceeding with Feature scaling, Split the dataset into X and y. X being the input variables and y the target</span>"
   ]
  },
  {
   "cell_type": "code",
   "execution_count": 7,
   "id": "07a903cd",
   "metadata": {},
   "outputs": [],
   "source": [
    "import pandas as pd"
   ]
  },
  {
   "cell_type": "code",
   "execution_count": 8,
   "id": "4a920b2d",
   "metadata": {},
   "outputs": [],
   "source": [
    "df=pd.read_csv('mobile_price.csv')"
   ]
  },
  {
   "cell_type": "code",
   "execution_count": 10,
   "id": "9015be87",
   "metadata": {},
   "outputs": [
    {
     "data": {
      "text/html": [
       "<div>\n",
       "<style scoped>\n",
       "    .dataframe tbody tr th:only-of-type {\n",
       "        vertical-align: middle;\n",
       "    }\n",
       "\n",
       "    .dataframe tbody tr th {\n",
       "        vertical-align: top;\n",
       "    }\n",
       "\n",
       "    .dataframe thead th {\n",
       "        text-align: right;\n",
       "    }\n",
       "</style>\n",
       "<table border=\"1\" class=\"dataframe\">\n",
       "  <thead>\n",
       "    <tr style=\"text-align: right;\">\n",
       "      <th></th>\n",
       "      <th>battery_power</th>\n",
       "      <th>blue</th>\n",
       "      <th>clock_speed</th>\n",
       "      <th>dual_sim</th>\n",
       "      <th>fc</th>\n",
       "      <th>four_g</th>\n",
       "      <th>int_memory</th>\n",
       "      <th>m_dep</th>\n",
       "      <th>mobile_wt</th>\n",
       "      <th>n_cores</th>\n",
       "      <th>...</th>\n",
       "      <th>px_height</th>\n",
       "      <th>px_width</th>\n",
       "      <th>ram</th>\n",
       "      <th>sc_h</th>\n",
       "      <th>sc_w</th>\n",
       "      <th>talk_time</th>\n",
       "      <th>three_g</th>\n",
       "      <th>touch_screen</th>\n",
       "      <th>wifi</th>\n",
       "      <th>price_range</th>\n",
       "    </tr>\n",
       "  </thead>\n",
       "  <tbody>\n",
       "    <tr>\n",
       "      <th>0</th>\n",
       "      <td>842</td>\n",
       "      <td>0</td>\n",
       "      <td>2.2</td>\n",
       "      <td>0</td>\n",
       "      <td>1</td>\n",
       "      <td>0</td>\n",
       "      <td>7</td>\n",
       "      <td>0.6</td>\n",
       "      <td>188</td>\n",
       "      <td>2</td>\n",
       "      <td>...</td>\n",
       "      <td>20</td>\n",
       "      <td>756</td>\n",
       "      <td>2549</td>\n",
       "      <td>9</td>\n",
       "      <td>7</td>\n",
       "      <td>19</td>\n",
       "      <td>0</td>\n",
       "      <td>0</td>\n",
       "      <td>1</td>\n",
       "      <td>1</td>\n",
       "    </tr>\n",
       "    <tr>\n",
       "      <th>1</th>\n",
       "      <td>1021</td>\n",
       "      <td>1</td>\n",
       "      <td>0.5</td>\n",
       "      <td>1</td>\n",
       "      <td>0</td>\n",
       "      <td>1</td>\n",
       "      <td>53</td>\n",
       "      <td>0.7</td>\n",
       "      <td>136</td>\n",
       "      <td>3</td>\n",
       "      <td>...</td>\n",
       "      <td>905</td>\n",
       "      <td>1988</td>\n",
       "      <td>2631</td>\n",
       "      <td>17</td>\n",
       "      <td>3</td>\n",
       "      <td>7</td>\n",
       "      <td>1</td>\n",
       "      <td>1</td>\n",
       "      <td>0</td>\n",
       "      <td>2</td>\n",
       "    </tr>\n",
       "    <tr>\n",
       "      <th>2</th>\n",
       "      <td>563</td>\n",
       "      <td>1</td>\n",
       "      <td>0.5</td>\n",
       "      <td>1</td>\n",
       "      <td>2</td>\n",
       "      <td>1</td>\n",
       "      <td>41</td>\n",
       "      <td>0.9</td>\n",
       "      <td>145</td>\n",
       "      <td>5</td>\n",
       "      <td>...</td>\n",
       "      <td>1263</td>\n",
       "      <td>1716</td>\n",
       "      <td>2603</td>\n",
       "      <td>11</td>\n",
       "      <td>2</td>\n",
       "      <td>9</td>\n",
       "      <td>1</td>\n",
       "      <td>1</td>\n",
       "      <td>0</td>\n",
       "      <td>2</td>\n",
       "    </tr>\n",
       "    <tr>\n",
       "      <th>3</th>\n",
       "      <td>615</td>\n",
       "      <td>1</td>\n",
       "      <td>2.5</td>\n",
       "      <td>0</td>\n",
       "      <td>0</td>\n",
       "      <td>0</td>\n",
       "      <td>10</td>\n",
       "      <td>0.8</td>\n",
       "      <td>131</td>\n",
       "      <td>6</td>\n",
       "      <td>...</td>\n",
       "      <td>1216</td>\n",
       "      <td>1786</td>\n",
       "      <td>2769</td>\n",
       "      <td>16</td>\n",
       "      <td>8</td>\n",
       "      <td>11</td>\n",
       "      <td>1</td>\n",
       "      <td>0</td>\n",
       "      <td>0</td>\n",
       "      <td>2</td>\n",
       "    </tr>\n",
       "    <tr>\n",
       "      <th>4</th>\n",
       "      <td>1821</td>\n",
       "      <td>1</td>\n",
       "      <td>1.2</td>\n",
       "      <td>0</td>\n",
       "      <td>13</td>\n",
       "      <td>1</td>\n",
       "      <td>44</td>\n",
       "      <td>0.6</td>\n",
       "      <td>141</td>\n",
       "      <td>2</td>\n",
       "      <td>...</td>\n",
       "      <td>1208</td>\n",
       "      <td>1212</td>\n",
       "      <td>1411</td>\n",
       "      <td>8</td>\n",
       "      <td>2</td>\n",
       "      <td>15</td>\n",
       "      <td>1</td>\n",
       "      <td>1</td>\n",
       "      <td>0</td>\n",
       "      <td>1</td>\n",
       "    </tr>\n",
       "  </tbody>\n",
       "</table>\n",
       "<p>5 rows × 21 columns</p>\n",
       "</div>"
      ],
      "text/plain": [
       "   battery_power  blue  clock_speed  dual_sim  fc  four_g  int_memory  m_dep  \\\n",
       "0            842     0          2.2         0   1       0           7    0.6   \n",
       "1           1021     1          0.5         1   0       1          53    0.7   \n",
       "2            563     1          0.5         1   2       1          41    0.9   \n",
       "3            615     1          2.5         0   0       0          10    0.8   \n",
       "4           1821     1          1.2         0  13       1          44    0.6   \n",
       "\n",
       "   mobile_wt  n_cores  ...  px_height  px_width   ram  sc_h  sc_w  talk_time  \\\n",
       "0        188        2  ...         20       756  2549     9     7         19   \n",
       "1        136        3  ...        905      1988  2631    17     3          7   \n",
       "2        145        5  ...       1263      1716  2603    11     2          9   \n",
       "3        131        6  ...       1216      1786  2769    16     8         11   \n",
       "4        141        2  ...       1208      1212  1411     8     2         15   \n",
       "\n",
       "   three_g  touch_screen  wifi  price_range  \n",
       "0        0             0     1            1  \n",
       "1        1             1     0            2  \n",
       "2        1             1     0            2  \n",
       "3        1             0     0            2  \n",
       "4        1             1     0            1  \n",
       "\n",
       "[5 rows x 21 columns]"
      ]
     },
     "execution_count": 10,
     "metadata": {},
     "output_type": "execute_result"
    }
   ],
   "source": [
    "df.head()"
   ]
  },
  {
   "cell_type": "code",
   "execution_count": 13,
   "id": "d4944d90",
   "metadata": {},
   "outputs": [],
   "source": [
    "x = df.drop(columns = ['price_range'])\n",
    "y=df['price_range']"
   ]
  },
  {
   "cell_type": "code",
   "execution_count": 14,
   "id": "6ae354ee",
   "metadata": {
    "scrolled": true
   },
   "outputs": [
    {
     "data": {
      "text/plain": [
       "0    1\n",
       "1    2\n",
       "2    2\n",
       "3    2\n",
       "4    1\n",
       "Name: price_range, dtype: int64"
      ]
     },
     "execution_count": 14,
     "metadata": {},
     "output_type": "execute_result"
    }
   ],
   "source": [
    "y.head()"
   ]
  },
  {
   "cell_type": "code",
   "execution_count": 16,
   "id": "bdbc3379",
   "metadata": {},
   "outputs": [],
   "source": [
    "# data normalization with sklearn\n",
    "from sklearn.preprocessing import MinMaxScaler"
   ]
  },
  {
   "cell_type": "code",
   "execution_count": 17,
   "id": "07650328",
   "metadata": {},
   "outputs": [],
   "source": [
    "# Create normalization model\n",
    "normalizer = MinMaxScaler()"
   ]
  },
  {
   "cell_type": "code",
   "execution_count": 21,
   "id": "341d9b28",
   "metadata": {},
   "outputs": [],
   "source": [
    "x_scaled=normalizer.fit_transform(x)"
   ]
  },
  {
   "cell_type": "code",
   "execution_count": 23,
   "id": "93283c17",
   "metadata": {},
   "outputs": [
    {
     "data": {
      "text/html": [
       "<div>\n",
       "<style scoped>\n",
       "    .dataframe tbody tr th:only-of-type {\n",
       "        vertical-align: middle;\n",
       "    }\n",
       "\n",
       "    .dataframe tbody tr th {\n",
       "        vertical-align: top;\n",
       "    }\n",
       "\n",
       "    .dataframe thead th {\n",
       "        text-align: right;\n",
       "    }\n",
       "</style>\n",
       "<table border=\"1\" class=\"dataframe\">\n",
       "  <thead>\n",
       "    <tr style=\"text-align: right;\">\n",
       "      <th></th>\n",
       "      <th>battery_power</th>\n",
       "      <th>blue</th>\n",
       "      <th>clock_speed</th>\n",
       "      <th>dual_sim</th>\n",
       "      <th>fc</th>\n",
       "      <th>four_g</th>\n",
       "      <th>int_memory</th>\n",
       "      <th>m_dep</th>\n",
       "      <th>mobile_wt</th>\n",
       "      <th>n_cores</th>\n",
       "      <th>pc</th>\n",
       "      <th>px_height</th>\n",
       "      <th>px_width</th>\n",
       "      <th>ram</th>\n",
       "      <th>sc_h</th>\n",
       "      <th>sc_w</th>\n",
       "      <th>talk_time</th>\n",
       "      <th>three_g</th>\n",
       "      <th>touch_screen</th>\n",
       "      <th>wifi</th>\n",
       "    </tr>\n",
       "  </thead>\n",
       "  <tbody>\n",
       "    <tr>\n",
       "      <th>0</th>\n",
       "      <td>0.227789</td>\n",
       "      <td>0.0</td>\n",
       "      <td>0.68</td>\n",
       "      <td>0.0</td>\n",
       "      <td>0.052632</td>\n",
       "      <td>0.0</td>\n",
       "      <td>0.080645</td>\n",
       "      <td>0.555556</td>\n",
       "      <td>0.900000</td>\n",
       "      <td>0.142857</td>\n",
       "      <td>0.10</td>\n",
       "      <td>0.010204</td>\n",
       "      <td>0.170895</td>\n",
       "      <td>0.612774</td>\n",
       "      <td>0.285714</td>\n",
       "      <td>0.388889</td>\n",
       "      <td>0.944444</td>\n",
       "      <td>0.0</td>\n",
       "      <td>0.0</td>\n",
       "      <td>1.0</td>\n",
       "    </tr>\n",
       "    <tr>\n",
       "      <th>1</th>\n",
       "      <td>0.347361</td>\n",
       "      <td>1.0</td>\n",
       "      <td>0.00</td>\n",
       "      <td>1.0</td>\n",
       "      <td>0.000000</td>\n",
       "      <td>1.0</td>\n",
       "      <td>0.822581</td>\n",
       "      <td>0.666667</td>\n",
       "      <td>0.466667</td>\n",
       "      <td>0.285714</td>\n",
       "      <td>0.30</td>\n",
       "      <td>0.461735</td>\n",
       "      <td>0.993324</td>\n",
       "      <td>0.634687</td>\n",
       "      <td>0.857143</td>\n",
       "      <td>0.166667</td>\n",
       "      <td>0.277778</td>\n",
       "      <td>1.0</td>\n",
       "      <td>1.0</td>\n",
       "      <td>0.0</td>\n",
       "    </tr>\n",
       "    <tr>\n",
       "      <th>2</th>\n",
       "      <td>0.041416</td>\n",
       "      <td>1.0</td>\n",
       "      <td>0.00</td>\n",
       "      <td>1.0</td>\n",
       "      <td>0.105263</td>\n",
       "      <td>1.0</td>\n",
       "      <td>0.629032</td>\n",
       "      <td>0.888889</td>\n",
       "      <td>0.541667</td>\n",
       "      <td>0.571429</td>\n",
       "      <td>0.30</td>\n",
       "      <td>0.644388</td>\n",
       "      <td>0.811749</td>\n",
       "      <td>0.627205</td>\n",
       "      <td>0.428571</td>\n",
       "      <td>0.111111</td>\n",
       "      <td>0.388889</td>\n",
       "      <td>1.0</td>\n",
       "      <td>1.0</td>\n",
       "      <td>0.0</td>\n",
       "    </tr>\n",
       "    <tr>\n",
       "      <th>3</th>\n",
       "      <td>0.076152</td>\n",
       "      <td>1.0</td>\n",
       "      <td>0.80</td>\n",
       "      <td>0.0</td>\n",
       "      <td>0.000000</td>\n",
       "      <td>0.0</td>\n",
       "      <td>0.129032</td>\n",
       "      <td>0.777778</td>\n",
       "      <td>0.425000</td>\n",
       "      <td>0.714286</td>\n",
       "      <td>0.45</td>\n",
       "      <td>0.620408</td>\n",
       "      <td>0.858478</td>\n",
       "      <td>0.671566</td>\n",
       "      <td>0.785714</td>\n",
       "      <td>0.444444</td>\n",
       "      <td>0.500000</td>\n",
       "      <td>1.0</td>\n",
       "      <td>0.0</td>\n",
       "      <td>0.0</td>\n",
       "    </tr>\n",
       "    <tr>\n",
       "      <th>4</th>\n",
       "      <td>0.881764</td>\n",
       "      <td>1.0</td>\n",
       "      <td>0.28</td>\n",
       "      <td>0.0</td>\n",
       "      <td>0.684211</td>\n",
       "      <td>1.0</td>\n",
       "      <td>0.677419</td>\n",
       "      <td>0.555556</td>\n",
       "      <td>0.508333</td>\n",
       "      <td>0.142857</td>\n",
       "      <td>0.70</td>\n",
       "      <td>0.616327</td>\n",
       "      <td>0.475300</td>\n",
       "      <td>0.308658</td>\n",
       "      <td>0.214286</td>\n",
       "      <td>0.111111</td>\n",
       "      <td>0.722222</td>\n",
       "      <td>1.0</td>\n",
       "      <td>1.0</td>\n",
       "      <td>0.0</td>\n",
       "    </tr>\n",
       "    <tr>\n",
       "      <th>...</th>\n",
       "      <td>...</td>\n",
       "      <td>...</td>\n",
       "      <td>...</td>\n",
       "      <td>...</td>\n",
       "      <td>...</td>\n",
       "      <td>...</td>\n",
       "      <td>...</td>\n",
       "      <td>...</td>\n",
       "      <td>...</td>\n",
       "      <td>...</td>\n",
       "      <td>...</td>\n",
       "      <td>...</td>\n",
       "      <td>...</td>\n",
       "      <td>...</td>\n",
       "      <td>...</td>\n",
       "      <td>...</td>\n",
       "      <td>...</td>\n",
       "      <td>...</td>\n",
       "      <td>...</td>\n",
       "      <td>...</td>\n",
       "    </tr>\n",
       "    <tr>\n",
       "      <th>1995</th>\n",
       "      <td>0.195725</td>\n",
       "      <td>1.0</td>\n",
       "      <td>0.00</td>\n",
       "      <td>1.0</td>\n",
       "      <td>0.000000</td>\n",
       "      <td>1.0</td>\n",
       "      <td>0.000000</td>\n",
       "      <td>0.777778</td>\n",
       "      <td>0.216667</td>\n",
       "      <td>0.714286</td>\n",
       "      <td>0.70</td>\n",
       "      <td>0.623469</td>\n",
       "      <td>0.927904</td>\n",
       "      <td>0.110102</td>\n",
       "      <td>0.571429</td>\n",
       "      <td>0.222222</td>\n",
       "      <td>0.944444</td>\n",
       "      <td>1.0</td>\n",
       "      <td>1.0</td>\n",
       "      <td>0.0</td>\n",
       "    </tr>\n",
       "    <tr>\n",
       "      <th>1996</th>\n",
       "      <td>0.977956</td>\n",
       "      <td>1.0</td>\n",
       "      <td>0.84</td>\n",
       "      <td>1.0</td>\n",
       "      <td>0.000000</td>\n",
       "      <td>0.0</td>\n",
       "      <td>0.596774</td>\n",
       "      <td>0.111111</td>\n",
       "      <td>0.891667</td>\n",
       "      <td>0.428571</td>\n",
       "      <td>0.15</td>\n",
       "      <td>0.466837</td>\n",
       "      <td>0.977971</td>\n",
       "      <td>0.474613</td>\n",
       "      <td>0.428571</td>\n",
       "      <td>0.555556</td>\n",
       "      <td>0.777778</td>\n",
       "      <td>1.0</td>\n",
       "      <td>1.0</td>\n",
       "      <td>1.0</td>\n",
       "    </tr>\n",
       "    <tr>\n",
       "      <th>1997</th>\n",
       "      <td>0.941884</td>\n",
       "      <td>0.0</td>\n",
       "      <td>0.16</td>\n",
       "      <td>1.0</td>\n",
       "      <td>0.052632</td>\n",
       "      <td>1.0</td>\n",
       "      <td>0.548387</td>\n",
       "      <td>0.666667</td>\n",
       "      <td>0.233333</td>\n",
       "      <td>1.000000</td>\n",
       "      <td>0.15</td>\n",
       "      <td>0.442857</td>\n",
       "      <td>0.755674</td>\n",
       "      <td>0.748530</td>\n",
       "      <td>0.285714</td>\n",
       "      <td>0.055556</td>\n",
       "      <td>0.166667</td>\n",
       "      <td>1.0</td>\n",
       "      <td>1.0</td>\n",
       "      <td>0.0</td>\n",
       "    </tr>\n",
       "    <tr>\n",
       "      <th>1998</th>\n",
       "      <td>0.675351</td>\n",
       "      <td>0.0</td>\n",
       "      <td>0.16</td>\n",
       "      <td>0.0</td>\n",
       "      <td>0.210526</td>\n",
       "      <td>1.0</td>\n",
       "      <td>0.709677</td>\n",
       "      <td>0.000000</td>\n",
       "      <td>0.541667</td>\n",
       "      <td>0.571429</td>\n",
       "      <td>0.25</td>\n",
       "      <td>0.171429</td>\n",
       "      <td>0.113485</td>\n",
       "      <td>0.163816</td>\n",
       "      <td>0.928571</td>\n",
       "      <td>0.555556</td>\n",
       "      <td>0.944444</td>\n",
       "      <td>1.0</td>\n",
       "      <td>1.0</td>\n",
       "      <td>1.0</td>\n",
       "    </tr>\n",
       "    <tr>\n",
       "      <th>1999</th>\n",
       "      <td>0.006012</td>\n",
       "      <td>1.0</td>\n",
       "      <td>0.60</td>\n",
       "      <td>1.0</td>\n",
       "      <td>0.263158</td>\n",
       "      <td>1.0</td>\n",
       "      <td>0.693548</td>\n",
       "      <td>0.888889</td>\n",
       "      <td>0.733333</td>\n",
       "      <td>0.714286</td>\n",
       "      <td>0.80</td>\n",
       "      <td>0.246429</td>\n",
       "      <td>0.169559</td>\n",
       "      <td>0.978888</td>\n",
       "      <td>1.000000</td>\n",
       "      <td>0.222222</td>\n",
       "      <td>0.000000</td>\n",
       "      <td>1.0</td>\n",
       "      <td>1.0</td>\n",
       "      <td>1.0</td>\n",
       "    </tr>\n",
       "  </tbody>\n",
       "</table>\n",
       "<p>2000 rows × 20 columns</p>\n",
       "</div>"
      ],
      "text/plain": [
       "      battery_power  blue  clock_speed  dual_sim        fc  four_g  \\\n",
       "0          0.227789   0.0         0.68       0.0  0.052632     0.0   \n",
       "1          0.347361   1.0         0.00       1.0  0.000000     1.0   \n",
       "2          0.041416   1.0         0.00       1.0  0.105263     1.0   \n",
       "3          0.076152   1.0         0.80       0.0  0.000000     0.0   \n",
       "4          0.881764   1.0         0.28       0.0  0.684211     1.0   \n",
       "...             ...   ...          ...       ...       ...     ...   \n",
       "1995       0.195725   1.0         0.00       1.0  0.000000     1.0   \n",
       "1996       0.977956   1.0         0.84       1.0  0.000000     0.0   \n",
       "1997       0.941884   0.0         0.16       1.0  0.052632     1.0   \n",
       "1998       0.675351   0.0         0.16       0.0  0.210526     1.0   \n",
       "1999       0.006012   1.0         0.60       1.0  0.263158     1.0   \n",
       "\n",
       "      int_memory     m_dep  mobile_wt   n_cores    pc  px_height  px_width  \\\n",
       "0       0.080645  0.555556   0.900000  0.142857  0.10   0.010204  0.170895   \n",
       "1       0.822581  0.666667   0.466667  0.285714  0.30   0.461735  0.993324   \n",
       "2       0.629032  0.888889   0.541667  0.571429  0.30   0.644388  0.811749   \n",
       "3       0.129032  0.777778   0.425000  0.714286  0.45   0.620408  0.858478   \n",
       "4       0.677419  0.555556   0.508333  0.142857  0.70   0.616327  0.475300   \n",
       "...          ...       ...        ...       ...   ...        ...       ...   \n",
       "1995    0.000000  0.777778   0.216667  0.714286  0.70   0.623469  0.927904   \n",
       "1996    0.596774  0.111111   0.891667  0.428571  0.15   0.466837  0.977971   \n",
       "1997    0.548387  0.666667   0.233333  1.000000  0.15   0.442857  0.755674   \n",
       "1998    0.709677  0.000000   0.541667  0.571429  0.25   0.171429  0.113485   \n",
       "1999    0.693548  0.888889   0.733333  0.714286  0.80   0.246429  0.169559   \n",
       "\n",
       "           ram      sc_h      sc_w  talk_time  three_g  touch_screen  wifi  \n",
       "0     0.612774  0.285714  0.388889   0.944444      0.0           0.0   1.0  \n",
       "1     0.634687  0.857143  0.166667   0.277778      1.0           1.0   0.0  \n",
       "2     0.627205  0.428571  0.111111   0.388889      1.0           1.0   0.0  \n",
       "3     0.671566  0.785714  0.444444   0.500000      1.0           0.0   0.0  \n",
       "4     0.308658  0.214286  0.111111   0.722222      1.0           1.0   0.0  \n",
       "...        ...       ...       ...        ...      ...           ...   ...  \n",
       "1995  0.110102  0.571429  0.222222   0.944444      1.0           1.0   0.0  \n",
       "1996  0.474613  0.428571  0.555556   0.777778      1.0           1.0   1.0  \n",
       "1997  0.748530  0.285714  0.055556   0.166667      1.0           1.0   0.0  \n",
       "1998  0.163816  0.928571  0.555556   0.944444      1.0           1.0   1.0  \n",
       "1999  0.978888  1.000000  0.222222   0.000000      1.0           1.0   1.0  \n",
       "\n",
       "[2000 rows x 20 columns]"
      ]
     },
     "execution_count": 23,
     "metadata": {},
     "output_type": "execute_result"
    }
   ],
   "source": [
    "pd.DataFrame(x_scaled,columns=x.columns)"
   ]
  },
  {
   "cell_type": "code",
   "execution_count": 41,
   "id": "c1e3caed",
   "metadata": {},
   "outputs": [
    {
     "ename": "NameError",
     "evalue": "name 'X' is not defined",
     "output_type": "error",
     "traceback": [
      "\u001b[1;31m---------------------------------------------------------------------------\u001b[0m",
      "\u001b[1;31mNameError\u001b[0m                                 Traceback (most recent call last)",
      "Cell \u001b[1;32mIn[41], line 8\u001b[0m\n\u001b[0;32m      5\u001b[0m normalizer \u001b[38;5;241m=\u001b[39m MinMaxScaler()\n\u001b[0;32m      7\u001b[0m \u001b[38;5;66;03m# Store column names of X in a variable\u001b[39;00m\n\u001b[1;32m----> 8\u001b[0m xcolumns \u001b[38;5;241m=\u001b[39m \u001b[43mX\u001b[49m\u001b[38;5;241m.\u001b[39mcolumns\n\u001b[0;32m     10\u001b[0m \u001b[38;5;66;03m# fit_transform data into a new variable\u001b[39;00m\n\u001b[0;32m     11\u001b[0m X_scaled \u001b[38;5;241m=\u001b[39m normalizer\u001b[38;5;241m.\u001b[39mfit_transform(X)\n",
      "\u001b[1;31mNameError\u001b[0m: name 'X' is not defined"
     ]
    }
   ],
   "source": [
    "# data normalization with sklearn\n",
    "from sklearn.preprocessing import MinMaxScaler\n",
    "\n",
    "# Create normalization model\n",
    "normalizer = MinMaxScaler()\n",
    "\n",
    "# Store column names of X in a variable\n",
    "xcolumns = X.columns\n",
    "\n",
    "# fit_transform data into a new variable\n",
    "X_scaled = normalizer.fit_transform(X)\n",
    "\n",
    "# Create a new DataFrame with X and assign the column names we fetched earlier\n",
    "X_scaled = pd.DataFrame(X_scaled, columns = xcolumns)"
   ]
  },
  {
   "cell_type": "code",
   "execution_count": null,
   "id": "14f5189a",
   "metadata": {},
   "outputs": [],
   "source": []
  },
  {
   "cell_type": "markdown",
   "id": "91bfa876",
   "metadata": {},
   "source": [
    "## Standardization using sklearn"
   ]
  },
  {
   "cell_type": "code",
   "execution_count": null,
   "id": "fe92ff5c",
   "metadata": {},
   "outputs": [],
   "source": [
    "# data standardization with  sklearn\n",
    "from sklearn.preprocessing import StandardScaler\n",
    "\n",
    "# create scaler model\n",
    "scaler = StandardScaler()\n",
    "\n",
    "# Store column names of X in a variable\n",
    "xcolumns = X.columns\n",
    "\n",
    "# fit_transform data into a new variable\n",
    "X_scaled = scaler.fit_transform(X)\n",
    "\n",
    "# Create a new DataFrame with X and assign the column names we fetched earlier\n",
    "X_scaled = pd.DataFrame(X_scaled, columns = xcolumns)"
   ]
  },
  {
   "cell_type": "code",
   "execution_count": 37,
   "id": "7a076f16",
   "metadata": {},
   "outputs": [],
   "source": [
    "# data standardization with  sklearn\n",
    "from sklearn.preprocessing import StandardScaler\n"
   ]
  },
  {
   "cell_type": "code",
   "execution_count": 38,
   "id": "560fc595",
   "metadata": {},
   "outputs": [],
   "source": [
    "# create scaler model\n",
    "scaler = StandardScaler()"
   ]
  },
  {
   "cell_type": "code",
   "execution_count": 39,
   "id": "d3406b90",
   "metadata": {},
   "outputs": [],
   "source": [
    "#fit_transform data into a new variable\n",
    "x_scaled = scaler.fit_transform(x)"
   ]
  },
  {
   "cell_type": "code",
   "execution_count": 40,
   "id": "30952e89",
   "metadata": {},
   "outputs": [],
   "source": [
    "# Create a new DataFrame with X and assign the column names we fetched earlier\n",
    "x_scaled = pd.DataFrame(x_scaled, columns = x.columns)"
   ]
  },
  {
   "cell_type": "code",
   "execution_count": null,
   "id": "2de1aced",
   "metadata": {},
   "outputs": [],
   "source": []
  },
  {
   "cell_type": "code",
   "execution_count": null,
   "id": "4d75d1b1",
   "metadata": {},
   "outputs": [],
   "source": []
  },
  {
   "cell_type": "code",
   "execution_count": null,
   "id": "40668b96",
   "metadata": {},
   "outputs": [],
   "source": []
  },
  {
   "cell_type": "code",
   "execution_count": null,
   "id": "b6d39739",
   "metadata": {},
   "outputs": [],
   "source": []
  },
  {
   "cell_type": "markdown",
   "id": "0e2d1668",
   "metadata": {},
   "source": [
    "***"
   ]
  },
  {
   "cell_type": "markdown",
   "id": "0cdd7c03",
   "metadata": {},
   "source": [
    "# <center><span style = \"color:CornflowerBlue; font-family:Courier New;font-size:40px\">EDURE LEARNING</span></center>"
   ]
  }
 ],
 "metadata": {
  "kernelspec": {
   "display_name": "Python 3 (ipykernel)",
   "language": "python",
   "name": "python3"
  },
  "language_info": {
   "codemirror_mode": {
    "name": "ipython",
    "version": 3
   },
   "file_extension": ".py",
   "mimetype": "text/x-python",
   "name": "python",
   "nbconvert_exporter": "python",
   "pygments_lexer": "ipython3",
   "version": "3.10.9"
  }
 },
 "nbformat": 4,
 "nbformat_minor": 5
}
